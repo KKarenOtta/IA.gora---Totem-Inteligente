{
  "nbformat": 4,
  "nbformat_minor": 0,
  "metadata": {
    "colab": {
      "provenance": [],
      "authorship_tag": "ABX9TyOJfubqQ4Wyqml7Zqg9rqrr",
      "include_colab_link": true
    },
    "kernelspec": {
      "name": "python3",
      "display_name": "Python 3"
    },
    "language_info": {
      "name": "python"
    }
  },
  "cells": [
    {
      "cell_type": "markdown",
      "metadata": {
        "id": "view-in-github",
        "colab_type": "text"
      },
      "source": [
        "<a href=\"https://colab.research.google.com/github/KKarenOtta/IA.gora---Totem-Inteligente/blob/main/SPRINT_01_PYTHON.ipynb\" target=\"_parent\"><img src=\"https://colab.research.google.com/assets/colab-badge.svg\" alt=\"Open In Colab\"/></a>"
      ]
    },
    {
      "cell_type": "markdown",
      "source": [
        "Erick Miguel- 564896\n",
        "Karen Ota-567076\n",
        "Leonardo Melo- 567097\n",
        "Leonardo Pereira-567836\n",
        "Sarah Furlan-566764\n"
      ],
      "metadata": {
        "id": "0eDIMmP-ycss"
      }
    },
    {
      "cell_type": "code",
      "execution_count": 1,
      "metadata": {
        "colab": {
          "base_uri": "https://localhost:8080/"
        },
        "id": "uTCZgGSBb-Rz",
        "outputId": "dd0d02cd-4ffe-4c3d-ff2b-6e78193e9395"
      },
      "outputs": [
        {
          "output_type": "stream",
          "name": "stdout",
          "text": [
            "Bem-vindo ao Totem FlexMedia!\n",
            "\n",
            "========== TOTEM FLEXMEDIA ==========\n",
            "1 - Cadastrar informação\n",
            "2 - Listar informações cadastradas\n",
            "0 - Sair\n",
            "=====================================\n",
            "\n",
            "Escolha uma opção: 1\n",
            "\n",
            "--- Cadastrar Nova Informação ---\n",
            "Digite o título: TESTE\n",
            "Digite o tipo (educativo/cultural/lazer): CULTURA\n",
            "Digite a descrição: TESTE\n",
            "\n",
            "Informação cadastrada com sucesso!\n",
            "\n",
            "========== TOTEM FLEXMEDIA ==========\n",
            "1 - Cadastrar informação\n",
            "2 - Listar informações cadastradas\n",
            "0 - Sair\n",
            "=====================================\n",
            "\n",
            "Escolha uma opção: 2\n",
            "\n",
            "--- Informações Cadastradas ---\n",
            "\n",
            "Informação 1:\n",
            "Título: TESTE\n",
            "Tipo: CULTURA\n",
            "Descrição: TESTE\n",
            "\n",
            "========== TOTEM FLEXMEDIA ==========\n",
            "1 - Cadastrar informação\n",
            "2 - Listar informações cadastradas\n",
            "0 - Sair\n",
            "=====================================\n",
            "\n",
            "Escolha uma opção: 0\n",
            "\n",
            "Até logo e volte sempre!\n"
          ]
        }
      ],
      "source": [
        "\n",
        "def cadastrar_informacao(lista):\n",
        "    \"\"\"Cadastra uma nova informação na lista.\"\"\"\n",
        "    print(\"\\n--- Cadastrar Nova Informação ---\")\n",
        "\n",
        "    titulo = input(\"Digite o título: \")\n",
        "    tipo = input(\"Digite o tipo (educativo/cultural/lazer): \")\n",
        "    descricao = input(\"Digite a descrição: \")\n",
        "\n",
        "    informacao = {\n",
        "        \"titulo\": titulo,\n",
        "        \"tipo\": tipo,\n",
        "        \"descricao\": descricao\n",
        "    }\n",
        "\n",
        "    lista.append(informacao)\n",
        "    print(\"\\nInformação cadastrada com sucesso!\")\n",
        "\n",
        "\n",
        "def listar_informacoes(lista):\n",
        "    \"\"\"Exibe todas as informações cadastradas.\"\"\"\n",
        "    print(\"\\n--- Informações Cadastradas ---\")\n",
        "\n",
        "    if len(lista) == 0:\n",
        "        print(\"Nenhuma informação cadastrada ainda.\")\n",
        "    else:\n",
        "        for i in range(len(lista)):\n",
        "            print(f\"\\nInformação {i + 1}:\")\n",
        "            print(f\"Título: {lista[i]['titulo']}\")\n",
        "            print(f\"Tipo: {lista[i]['tipo']}\")\n",
        "            print(f\"Descrição: {lista[i]['descricao']}\")\n",
        "\n",
        "\n",
        "def exibir_menu():\n",
        "    \"\"\"Exibe o menu principal.\"\"\"\n",
        "    print(\"\\n========== TOTEM FLEXMEDIA ==========\")\n",
        "    print(\"1 - Cadastrar informação\")\n",
        "    print(\"2 - Listar informações cadastradas\")\n",
        "    print(\"0 - Sair\")\n",
        "    print(\"=====================================\")\n",
        "\n",
        "\n",
        "def main():\n",
        "    \"\"\"Função principal do programa.\"\"\"\n",
        "    informacoes = []\n",
        "\n",
        "    print(\"Bem-vindo ao Totem FlexMedia!\")\n",
        "\n",
        "    while True:\n",
        "        exibir_menu()\n",
        "        opcao = input(\"\\nEscolha uma opção: \")\n",
        "\n",
        "        if opcao == \"1\":\n",
        "            cadastrar_informacao(informacoes)\n",
        "        elif opcao == \"2\":\n",
        "            listar_informacoes(informacoes)\n",
        "        elif opcao == \"0\":\n",
        "            print(\"\\nAté logo e volte sempre!\")\n",
        "            break\n",
        "        else:\n",
        "            print(\"\\nOpção inválida! Tente novamente.\")\n",
        "\n",
        "\n",
        "if __name__ == \"__main__\":\n",
        "    main()"
      ]
    }
  ]
}